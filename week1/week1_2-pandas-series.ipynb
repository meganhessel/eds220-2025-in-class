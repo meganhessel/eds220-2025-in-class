{
 "cells": [
  {
   "cell_type": "markdown",
   "id": "67ebcdd1-e200-407f-a917-4d2fb68275f0",
   "metadata": {},
   "source": [
    "## WK 1: Pandas series and data frames"
   ]
  },
  {
   "cell_type": "code",
   "execution_count": 35,
   "id": "9d37d690-13e2-4fa8-af99-83ce47ceace9",
   "metadata": {
    "tags": []
   },
   "outputs": [],
   "source": [
    "# import libaries \n",
    "import pandas as pd\n",
    "import numpy as np"
   ]
  },
  {
   "cell_type": "markdown",
   "id": "a47d74ca-1a7b-44d5-9dee-c95aa6e57493",
   "metadata": {},
   "source": [
    "## Series \n",
    "\n",
    "Creating PANDA series from numpy arrays, lists, dictonary "
   ]
  },
  {
   "cell_type": "code",
   "execution_count": 36,
   "id": "ae817b17-b92a-487d-8b6c-50fc15dea6d1",
   "metadata": {},
   "outputs": [
    {
     "name": "stdout",
     "output_type": "stream",
     "text": [
      "<class 'numpy.ndarray'>\n",
      "[ 0.08216682  0.82835542  0.29920222 -0.6834705 ] \n",
      "\n",
      "<class 'pandas.core.series.Series'>\n",
      "0    0.082167\n",
      "1    0.828355\n",
      "2    0.299202\n",
      "3   -0.683470\n",
      "dtype: float64\n"
     ]
    }
   ],
   "source": [
    "# A numpy array\n",
    "arr = np.random.randn(4) # random values from std normal distribution\n",
    "print(type(arr))\n",
    "print(arr, \"\\n\")\n",
    "\n",
    "# A pandas series made from the previous array\n",
    "s = pd.Series(arr)\n",
    "print(type(s))\n",
    "print(s)"
   ]
  },
  {
   "cell_type": "code",
   "execution_count": 37,
   "id": "ee10cf79-9d81-4b0c-8a12-d24e3bada7a7",
   "metadata": {
    "tags": []
   },
   "outputs": [
    {
     "data": {
      "text/plain": [
       "2023    0\n",
       "2024    1\n",
       "2025    2\n",
       "dtype: int64"
      ]
     },
     "execution_count": 37,
     "metadata": {},
     "output_type": "execute_result"
    }
   ],
   "source": [
    "# A series from a numpy array \n",
    "pd.Series(np.arange(3), index=[2023, 2024, 2025])"
   ]
  },
  {
   "cell_type": "code",
   "execution_count": 38,
   "id": "18c87d59-b611-4974-8048-c84062e6b159",
   "metadata": {
    "tags": []
   },
   "outputs": [
    {
     "data": {
      "text/plain": [
       "0    EDS 220\n",
       "1    EDS 222\n",
       "2    EDS 223\n",
       "3    EDS 242\n",
       "dtype: object"
      ]
     },
     "execution_count": 38,
     "metadata": {},
     "output_type": "execute_result"
    }
   ],
   "source": [
    "# A series from a list of strings with default index\n",
    "pd.Series(['EDS 220', 'EDS 222', 'EDS 223', 'EDS 242'])"
   ]
  },
  {
   "cell_type": "code",
   "execution_count": 39,
   "id": "0a425c62-d26e-4a9b-9a32-4ff6d2c34178",
   "metadata": {
    "tags": []
   },
   "outputs": [
    {
     "data": {
      "text/plain": [
       "key_0    2\n",
       "key_1    3\n",
       "key_2    5\n",
       "dtype: object"
      ]
     },
     "execution_count": 39,
     "metadata": {},
     "output_type": "execute_result"
    }
   ],
   "source": [
    "# Construct dictionary\n",
    "d = {'key_0':2, 'key_1':'3', 'key_2':5}\n",
    "\n",
    "# Initialize series using a dictionary\n",
    "pd.Series(d)\n"
   ]
  },
  {
   "cell_type": "code",
   "execution_count": 40,
   "id": "9923a6c3-788d-4da6-83be-713d68e354e8",
   "metadata": {
    "tags": []
   },
   "outputs": [
    {
     "data": {
      "text/plain": [
       "A    3.0\n",
       "B    3.0\n",
       "C    3.0\n",
       "dtype: float64"
      ]
     },
     "execution_count": 40,
     "metadata": {},
     "output_type": "execute_result"
    }
   ],
   "source": [
    "# Creating a pandas.Series from a single value\n",
    "pd.Series(3.0, index = ['A', 'B', 'C'])"
   ]
  },
  {
   "cell_type": "markdown",
   "id": "594cbeae-e9d9-451a-bb24-62e61d34daa6",
   "metadata": {},
   "source": [
    "### Simple operations\n",
    "\n",
    "Creating a series\n",
    "\n",
    "OPERATIONS: dividing & exponents "
   ]
  },
  {
   "cell_type": "code",
   "execution_count": 41,
   "id": "1e341392-9381-4467-b2da-0cbe0e69d5aa",
   "metadata": {
    "tags": []
   },
   "outputs": [
    {
     "name": "stdout",
     "output_type": "stream",
     "text": [
      "Andrea      98\n",
      "Beth        73\n",
      "Carolina    65\n",
      "dtype: int64\n",
      "Andrea      9.8\n",
      "Beth        7.3\n",
      "Carolina    6.5\n",
      "dtype: float64 \n",
      "\n",
      "Andrea      3.637971e+42\n",
      "Beth        5.052394e+31\n",
      "Carolina    1.694889e+28\n",
      "dtype: float64 \n",
      "\n",
      "Andrea      98\n",
      "Beth        73\n",
      "Carolina    65\n",
      "dtype: int64\n"
     ]
    }
   ],
   "source": [
    "# Define a series\n",
    "s = pd.Series([98,73,65],index=['Andrea', 'Beth', 'Carolina'])\n",
    "print(s)\n",
    "\n",
    "# Divide each element in series by 10\n",
    "print(s /10, '\\n') # IDK what the '\\n' does! When you take it out, it gives the same answer \n",
    "\n",
    "# Take the exponential of each element in series\n",
    "print(np.exp(s), '\\n') # EXPONENT \n",
    "\n",
    "# Original series is unchanged\n",
    "print(s)"
   ]
  },
  {
   "cell_type": "code",
   "execution_count": 42,
   "id": "2395cc04-1059-464f-ab8a-f211bb5ba7fb",
   "metadata": {
    "tags": []
   },
   "outputs": [
    {
     "data": {
      "text/plain": [
       "Andrea       True\n",
       "Beth         True\n",
       "Carolina    False\n",
       "dtype: bool"
      ]
     },
     "execution_count": 42,
     "metadata": {},
     "output_type": "execute_result"
    }
   ],
   "source": [
    "# Series with True/False values - if the elements in a series satisfy a condition or not:\n",
    "s > 70"
   ]
  },
  {
   "cell_type": "markdown",
   "id": "6061bf1e-f20d-479c-94ef-7feb53474ab1",
   "metadata": {},
   "source": [
    "### Identifying missing values\n"
   ]
  },
  {
   "cell_type": "code",
   "execution_count": 43,
   "id": "4b02763d-a16a-4d81-8e8e-342a09ad6a19",
   "metadata": {
    "tags": []
   },
   "outputs": [
    {
     "data": {
      "text/plain": [
       "0    1.0\n",
       "1    2.0\n",
       "2    NaN\n",
       "3    4.0\n",
       "4    NaN\n",
       "dtype: float64"
      ]
     },
     "execution_count": 43,
     "metadata": {},
     "output_type": "execute_result"
    }
   ],
   "source": [
    "# Creating a Series with NAs in it\n",
    "s = pd.Series([1, 2, np.nan, 4, np.nan])\n",
    "s"
   ]
  },
  {
   "cell_type": "code",
   "execution_count": 44,
   "id": "4a91a6b6-6540-4a10-8266-e100bf40088c",
   "metadata": {
    "tags": []
   },
   "outputs": [
    {
     "data": {
      "text/plain": [
       "True"
      ]
     },
     "execution_count": 44,
     "metadata": {},
     "output_type": "execute_result"
    }
   ],
   "source": [
    "# Check if series has NAs\n",
    "s.hasnans"
   ]
  },
  {
   "cell_type": "code",
   "execution_count": 45,
   "id": "836f8008-a092-4832-b10d-367eee71070c",
   "metadata": {
    "tags": []
   },
   "outputs": [
    {
     "data": {
      "text/plain": [
       "0    False\n",
       "1    False\n",
       "2     True\n",
       "3    False\n",
       "4     True\n",
       "dtype: bool"
      ]
     },
     "execution_count": 45,
     "metadata": {},
     "output_type": "execute_result"
    }
   ],
   "source": [
    "# Check if series has NAs\n",
    "s.isna()\n",
    "# \"bool\" = boolean values indicating"
   ]
  },
  {
   "cell_type": "markdown",
   "id": "5b20ef45-f653-4a2b-8b32-003c5d872344",
   "metadata": {},
   "source": [
    "### Check in Question\n",
    "\n",
    "Replacing '-999' with NAs using .mask and .replace"
   ]
  },
  {
   "cell_type": "code",
   "execution_count": 46,
   "id": "be2adfff-ade9-4ffc-89cd-460d60ecc973",
   "metadata": {
    "tags": []
   },
   "outputs": [
    {
     "name": "stdout",
     "output_type": "stream",
     "text": [
      "A      2\n",
      "B   -999\n",
      "C      5\n",
      "D   -999\n",
      "dtype: int64\n",
      "A    2.0\n",
      "B    NaN\n",
      "C    5.0\n",
      "D    NaN\n",
      "dtype: float64\n",
      "A    2.0\n",
      "B    NaN\n",
      "C    5.0\n",
      "D    NaN\n",
      "dtype: float64\n"
     ]
    }
   ],
   "source": [
    "# Create a Panda Series where two of the intergers values are -999 \n",
    "s = pd.Series([2, -999, 5, -999], index = ['A', 'B', 'C', 'D'])\n",
    "print(s)\n",
    "\n",
    "# Using .replace(), replace -999 by NA values\n",
    "s1 = s.replace(-999, np.nan)   #np.nan for numpy dtypes and pd.NA for extension dtypes \n",
    "print(s1)\n",
    "\n",
    "# Using .mask(), replace -999 by NA values\n",
    "s2 = s.mask(s == -999, np.nan)   #Mask() used boolean operators. By saying 's==-999' asks \"where s==-999 is TRUE\"\n",
    "print(s2)"
   ]
  },
  {
   "cell_type": "code",
   "execution_count": 56,
   "id": "5f42bd17-9438-43fd-858b-cc01d7b47d5e",
   "metadata": {
    "tags": []
   },
   "outputs": [
    {
     "data": {
      "text/plain": [
       "\u001b[0;31mSignature:\u001b[0m\n",
       "\u001b[0mpd\u001b[0m\u001b[0;34m.\u001b[0m\u001b[0mSeries\u001b[0m\u001b[0;34m.\u001b[0m\u001b[0mmask\u001b[0m\u001b[0;34m(\u001b[0m\u001b[0;34m\u001b[0m\n",
       "\u001b[0;34m\u001b[0m    \u001b[0mself\u001b[0m\u001b[0;34m,\u001b[0m\u001b[0;34m\u001b[0m\n",
       "\u001b[0;34m\u001b[0m    \u001b[0mcond\u001b[0m\u001b[0;34m,\u001b[0m\u001b[0;34m\u001b[0m\n",
       "\u001b[0;34m\u001b[0m    \u001b[0mother\u001b[0m\u001b[0;34m=\u001b[0m\u001b[0;34m<\u001b[0m\u001b[0mno_default\u001b[0m\u001b[0;34m>\u001b[0m\u001b[0;34m,\u001b[0m\u001b[0;34m\u001b[0m\n",
       "\u001b[0;34m\u001b[0m    \u001b[0;34m*\u001b[0m\u001b[0;34m,\u001b[0m\u001b[0;34m\u001b[0m\n",
       "\u001b[0;34m\u001b[0m    \u001b[0minplace\u001b[0m\u001b[0;34m:\u001b[0m \u001b[0;34m'bool_t'\u001b[0m \u001b[0;34m=\u001b[0m \u001b[0;32mFalse\u001b[0m\u001b[0;34m,\u001b[0m\u001b[0;34m\u001b[0m\n",
       "\u001b[0;34m\u001b[0m    \u001b[0maxis\u001b[0m\u001b[0;34m:\u001b[0m \u001b[0;34m'Axis | None'\u001b[0m \u001b[0;34m=\u001b[0m \u001b[0;32mNone\u001b[0m\u001b[0;34m,\u001b[0m\u001b[0;34m\u001b[0m\n",
       "\u001b[0;34m\u001b[0m    \u001b[0mlevel\u001b[0m\u001b[0;34m:\u001b[0m \u001b[0;34m'Level | None'\u001b[0m \u001b[0;34m=\u001b[0m \u001b[0;32mNone\u001b[0m\u001b[0;34m,\u001b[0m\u001b[0;34m\u001b[0m\n",
       "\u001b[0;34m\u001b[0m\u001b[0;34m)\u001b[0m \u001b[0;34m->\u001b[0m \u001b[0;34m'Self | None'\u001b[0m\u001b[0;34m\u001b[0m\u001b[0;34m\u001b[0m\u001b[0m\n",
       "\u001b[0;31mDocstring:\u001b[0m\n",
       "Replace values where the condition is True.\n",
       "\n",
       "Parameters\n",
       "----------\n",
       "cond : bool Series/DataFrame, array-like, or callable\n",
       "    Where `cond` is False, keep the original value. Where\n",
       "    True, replace with corresponding value from `other`.\n",
       "    If `cond` is callable, it is computed on the Series/DataFrame and\n",
       "    should return boolean Series/DataFrame or array. The callable must\n",
       "    not change input Series/DataFrame (though pandas doesn't check it).\n",
       "other : scalar, Series/DataFrame, or callable\n",
       "    Entries where `cond` is True are replaced with\n",
       "    corresponding value from `other`.\n",
       "    If other is callable, it is computed on the Series/DataFrame and\n",
       "    should return scalar or Series/DataFrame. The callable must not\n",
       "    change input Series/DataFrame (though pandas doesn't check it).\n",
       "    If not specified, entries will be filled with the corresponding\n",
       "    NULL value (``np.nan`` for numpy dtypes, ``pd.NA`` for extension\n",
       "    dtypes).\n",
       "inplace : bool, default False\n",
       "    Whether to perform the operation in place on the data.\n",
       "axis : int, default None\n",
       "    Alignment axis if needed. For `Series` this parameter is\n",
       "    unused and defaults to 0.\n",
       "level : int, default None\n",
       "    Alignment level if needed.\n",
       "\n",
       "Returns\n",
       "-------\n",
       "Same type as caller or None if ``inplace=True``.\n",
       "\n",
       "See Also\n",
       "--------\n",
       ":func:`DataFrame.where` : Return an object of same shape as\n",
       "    self.\n",
       "\n",
       "Notes\n",
       "-----\n",
       "The mask method is an application of the if-then idiom. For each\n",
       "element in the calling DataFrame, if ``cond`` is ``False`` the\n",
       "element is used; otherwise the corresponding element from the DataFrame\n",
       "``other`` is used. If the axis of ``other`` does not align with axis of\n",
       "``cond`` Series/DataFrame, the misaligned index positions will be filled with\n",
       "True.\n",
       "\n",
       "The signature for :func:`DataFrame.where` differs from\n",
       ":func:`numpy.where`. Roughly ``df1.where(m, df2)`` is equivalent to\n",
       "``np.where(m, df1, df2)``.\n",
       "\n",
       "For further details and examples see the ``mask`` documentation in\n",
       ":ref:`indexing <indexing.where_mask>`.\n",
       "\n",
       "The dtype of the object takes precedence. The fill value is casted to\n",
       "the object's dtype, if this can be done losslessly.\n",
       "\n",
       "Examples\n",
       "--------\n",
       ">>> s = pd.Series(range(5))\n",
       ">>> s.where(s > 0)\n",
       "0    NaN\n",
       "1    1.0\n",
       "2    2.0\n",
       "3    3.0\n",
       "4    4.0\n",
       "dtype: float64\n",
       ">>> s.mask(s > 0)\n",
       "0    0.0\n",
       "1    NaN\n",
       "2    NaN\n",
       "3    NaN\n",
       "4    NaN\n",
       "dtype: float64\n",
       "\n",
       ">>> s = pd.Series(range(5))\n",
       ">>> t = pd.Series([True, False])\n",
       ">>> s.where(t, 99)\n",
       "0     0\n",
       "1    99\n",
       "2    99\n",
       "3    99\n",
       "4    99\n",
       "dtype: int64\n",
       ">>> s.mask(t, 99)\n",
       "0    99\n",
       "1     1\n",
       "2    99\n",
       "3    99\n",
       "4    99\n",
       "dtype: int64\n",
       "\n",
       ">>> s.where(s > 1, 10)\n",
       "0    10\n",
       "1    10\n",
       "2    2\n",
       "3    3\n",
       "4    4\n",
       "dtype: int64\n",
       ">>> s.mask(s > 1, 10)\n",
       "0     0\n",
       "1     1\n",
       "2    10\n",
       "3    10\n",
       "4    10\n",
       "dtype: int64\n",
       "\n",
       ">>> df = pd.DataFrame(np.arange(10).reshape(-1, 2), columns=['A', 'B'])\n",
       ">>> df\n",
       "   A  B\n",
       "0  0  1\n",
       "1  2  3\n",
       "2  4  5\n",
       "3  6  7\n",
       "4  8  9\n",
       ">>> m = df % 3 == 0\n",
       ">>> df.where(m, -df)\n",
       "   A  B\n",
       "0  0 -1\n",
       "1 -2  3\n",
       "2 -4 -5\n",
       "3  6 -7\n",
       "4 -8  9\n",
       ">>> df.where(m, -df) == np.where(m, df, -df)\n",
       "      A     B\n",
       "0  True  True\n",
       "1  True  True\n",
       "2  True  True\n",
       "3  True  True\n",
       "4  True  True\n",
       ">>> df.where(m, -df) == df.mask(~m, -df)\n",
       "      A     B\n",
       "0  True  True\n",
       "1  True  True\n",
       "2  True  True\n",
       "3  True  True\n",
       "4  True  True\n",
       "\u001b[0;31mFile:\u001b[0m      /opt/anaconda3/envs/eds220-env/lib/python3.11/site-packages/pandas/core/generic.py\n",
       "\u001b[0;31mType:\u001b[0m      function"
      ]
     },
     "metadata": {},
     "output_type": "display_data"
    }
   ],
   "source": [
    "?pd.Series.mask"
   ]
  },
  {
   "cell_type": "markdown",
   "id": "003806e1-f5d3-47be-a4d1-7fe37428370a",
   "metadata": {},
   "source": [
    "## Data Frames \n",
    "\n",
    "Creating dataframes from a dictionary, changing the index + column names "
   ]
  },
  {
   "cell_type": "code",
   "execution_count": 47,
   "id": "192d6305-35c4-4ef0-be27-dc31ab30b561",
   "metadata": {
    "tags": []
   },
   "outputs": [
    {
     "data": {
      "text/html": [
       "<div>\n",
       "<style scoped>\n",
       "    .dataframe tbody tr th:only-of-type {\n",
       "        vertical-align: middle;\n",
       "    }\n",
       "\n",
       "    .dataframe tbody tr th {\n",
       "        vertical-align: top;\n",
       "    }\n",
       "\n",
       "    .dataframe thead th {\n",
       "        text-align: right;\n",
       "    }\n",
       "</style>\n",
       "<table border=\"1\" class=\"dataframe\">\n",
       "  <thead>\n",
       "    <tr style=\"text-align: right;\">\n",
       "      <th></th>\n",
       "      <th>col_name_1</th>\n",
       "      <th>col_name_2</th>\n",
       "    </tr>\n",
       "  </thead>\n",
       "  <tbody>\n",
       "    <tr>\n",
       "      <th>0</th>\n",
       "      <td>0</td>\n",
       "      <td>3.1</td>\n",
       "    </tr>\n",
       "    <tr>\n",
       "      <th>1</th>\n",
       "      <td>1</td>\n",
       "      <td>3.2</td>\n",
       "    </tr>\n",
       "    <tr>\n",
       "      <th>2</th>\n",
       "      <td>2</td>\n",
       "      <td>3.3</td>\n",
       "    </tr>\n",
       "  </tbody>\n",
       "</table>\n",
       "</div>"
      ],
      "text/plain": [
       "   col_name_1  col_name_2\n",
       "0           0         3.1\n",
       "1           1         3.2\n",
       "2           2         3.3"
      ]
     },
     "execution_count": 47,
     "metadata": {},
     "output_type": "execute_result"
    }
   ],
   "source": [
    "# Initialize dictionary with columns' data of lists \n",
    "d = {'col_name_1' : pd.Series(np.arange(3)),\n",
    "     'col_name_2' : pd.Series([3.1, 3.2, 3.3]),\n",
    "     }\n",
    "\n",
    "# Create data frame\n",
    "df = pd.DataFrame(d)\n",
    "df"
   ]
  },
  {
   "cell_type": "code",
   "execution_count": 48,
   "id": "37ba85da-b9b0-4f8a-8014-50cf4f160e03",
   "metadata": {
    "tags": []
   },
   "outputs": [
    {
     "data": {
      "text/html": [
       "<div>\n",
       "<style scoped>\n",
       "    .dataframe tbody tr th:only-of-type {\n",
       "        vertical-align: middle;\n",
       "    }\n",
       "\n",
       "    .dataframe tbody tr th {\n",
       "        vertical-align: top;\n",
       "    }\n",
       "\n",
       "    .dataframe thead th {\n",
       "        text-align: right;\n",
       "    }\n",
       "</style>\n",
       "<table border=\"1\" class=\"dataframe\">\n",
       "  <thead>\n",
       "    <tr style=\"text-align: right;\">\n",
       "      <th></th>\n",
       "      <th>col_name_1</th>\n",
       "      <th>col_name_2</th>\n",
       "    </tr>\n",
       "  </thead>\n",
       "  <tbody>\n",
       "    <tr>\n",
       "      <th>a</th>\n",
       "      <td>0</td>\n",
       "      <td>3.1</td>\n",
       "    </tr>\n",
       "    <tr>\n",
       "      <th>b</th>\n",
       "      <td>1</td>\n",
       "      <td>3.2</td>\n",
       "    </tr>\n",
       "    <tr>\n",
       "      <th>c</th>\n",
       "      <td>2</td>\n",
       "      <td>3.3</td>\n",
       "    </tr>\n",
       "  </tbody>\n",
       "</table>\n",
       "</div>"
      ],
      "text/plain": [
       "   col_name_1  col_name_2\n",
       "a           0         3.1\n",
       "b           1         3.2\n",
       "c           2         3.3"
      ]
     },
     "execution_count": 48,
     "metadata": {},
     "output_type": "execute_result"
    }
   ],
   "source": [
    "# Change index\n",
    "df.index = ['a','b','c']\n",
    "df"
   ]
  },
  {
   "cell_type": "markdown",
   "id": "bd653ea1-60d0-4d57-87be-d76c1b7d8c74",
   "metadata": {},
   "source": [
    "### Check in Question \n",
    "\n",
    "Updating the columns names using .columns and .rename "
   ]
  },
  {
   "cell_type": "code",
   "execution_count": 57,
   "id": "24a69200-8cea-461a-8d03-00dff336d4df",
   "metadata": {
    "tags": []
   },
   "outputs": [
    {
     "data": {
      "text/html": [
       "<div>\n",
       "<style scoped>\n",
       "    .dataframe tbody tr th:only-of-type {\n",
       "        vertical-align: middle;\n",
       "    }\n",
       "\n",
       "    .dataframe tbody tr th {\n",
       "        vertical-align: top;\n",
       "    }\n",
       "\n",
       "    .dataframe thead th {\n",
       "        text-align: right;\n",
       "    }\n",
       "</style>\n",
       "<table border=\"1\" class=\"dataframe\">\n",
       "  <thead>\n",
       "    <tr style=\"text-align: right;\">\n",
       "      <th></th>\n",
       "      <th>C1</th>\n",
       "      <th>C2</th>\n",
       "    </tr>\n",
       "  </thead>\n",
       "  <tbody>\n",
       "    <tr>\n",
       "      <th>a</th>\n",
       "      <td>0</td>\n",
       "      <td>3.1</td>\n",
       "    </tr>\n",
       "    <tr>\n",
       "      <th>b</th>\n",
       "      <td>1</td>\n",
       "      <td>3.2</td>\n",
       "    </tr>\n",
       "    <tr>\n",
       "      <th>c</th>\n",
       "      <td>2</td>\n",
       "      <td>3.3</td>\n",
       "    </tr>\n",
       "  </tbody>\n",
       "</table>\n",
       "</div>"
      ],
      "text/plain": [
       "   C1   C2\n",
       "a   0  3.1\n",
       "b   1  3.2\n",
       "c   2  3.3"
      ]
     },
     "execution_count": 57,
     "metadata": {},
     "output_type": "execute_result"
    }
   ],
   "source": [
    "# Update the column names to C1 and C2 \n",
    "df.columns #OG column names \n",
    "\n",
    "\n",
    "# Renaming columns with .columns \n",
    "df.columns = ['C1', 'C2']  #renaming columns with .columns \n",
    "\n",
    "# Renaming columns with .rename\n",
    "df.rename(columns = {'col_name_1': 'C1', \n",
    "                    'col_name_2': 'C2'})\n",
    "\n",
    "df"
   ]
  },
  {
   "cell_type": "code",
   "execution_count": null,
   "id": "6ebdef91-6f2e-4cf4-88f8-b7e9542206a0",
   "metadata": {},
   "outputs": [],
   "source": []
  }
 ],
 "metadata": {
  "kernelspec": {
   "display_name": "EDS220",
   "language": "python",
   "name": "eds220-env"
  },
  "language_info": {
   "codemirror_mode": {
    "name": "ipython",
    "version": 3
   },
   "file_extension": ".py",
   "mimetype": "text/x-python",
   "name": "python",
   "nbconvert_exporter": "python",
   "pygments_lexer": "ipython3",
   "version": "3.11.4"
  }
 },
 "nbformat": 4,
 "nbformat_minor": 5
}
