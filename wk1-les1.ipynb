{
 "cells": [
  {
   "cell_type": "markdown",
   "id": "97e4093d-0b5b-4d5a-8de4-7a80c55d9e1f",
   "metadata": {},
   "source": [
    "## Python review \n",
    "\n",
    "Goals: \n",
    "- recal basic python vocabulary \n",
    "- practice markdown \n",
    "\n",
    "## Libraries and packages\n",
    "\n",
    "**Library** : a collection of code that we can use to perfomr specific tasks in our programs . \n",
    "\n",
    "**NumPy** : \n",
    "- core library for numerical computering in python \n",
    "- many other libraryes use NumPy arrays as building blocks \n",
    "- computations on NumPy are opitimed for speeds and memory usage \n",
    "\n",
    "Lets import NumPy with ** standard abbrvation** "
   ]
  },
  {
   "cell_type": "code",
   "execution_count": 2,
   "id": "3f25bb9f-5715-47aa-8a68-9d8ac8ab1f9a",
   "metadata": {
    "tags": []
   },
   "outputs": [],
   "source": [
    "import numpy as np"
   ]
  },
  {
   "cell_type": "markdown",
   "id": "2c412cd1-2df8-4c23-9e76-f29f605716ce",
   "metadata": {},
   "source": [
    "## Variables \n",
    "\n",
    "**Variables** : A name we assign to a particular object in Pythonn \n",
    "\n",
    "Example: "
   ]
  },
  {
   "cell_type": "code",
   "execution_count": 3,
   "id": "71a14c47-7eb0-432d-b6be-18759c496482",
   "metadata": {
    "tags": []
   },
   "outputs": [],
   "source": [
    "# Assign a small array to cariable a \n",
    "a = np.array([[1,1,2], [3,5,8]])"
   ]
  },
  {
   "cell_type": "code",
   "execution_count": 5,
   "id": "48cd875b-e326-4b8a-ae69-6b8a902d4d28",
   "metadata": {
    "tags": []
   },
   "outputs": [
    {
     "data": {
      "text/plain": [
       "array([[1, 1, 2],\n",
       "       [3, 5, 8]])"
      ]
     },
     "execution_count": 5,
     "metadata": {},
     "output_type": "execute_result"
    }
   ],
   "source": [
    "# Run cell with variable name to show value \n",
    "a"
   ]
  },
  {
   "cell_type": "code",
   "execution_count": 6,
   "id": "faae28d9-b041-46b7-ba5c-5cf360823555",
   "metadata": {
    "tags": []
   },
   "outputs": [
    {
     "name": "stdout",
     "output_type": "stream",
     "text": [
      "[[1 1 2]\n",
      " [3 5 8]]\n"
     ]
    }
   ],
   "source": [
    "# Use 'print' function to print the value \n",
    "print(a)"
   ]
  },
  {
   "cell_type": "markdown",
   "id": "65459981-1fbb-4ee4-bf4f-39676735e91f",
   "metadata": {},
   "source": [
    "## Objects\n",
    "\n",
    "**Object** (informally speaking) is a buncle of *properties* and *actions* about somethung specific. \n",
    "\n",
    "Examples: \n",
    "\n",
    "Object: data frame \n",
    "\n",
    "Properties: number rows, names of columns, date created\n",
    "\n",
    "Actions: selecting a specific row, adding a new column \n",
    "\n",
    "A variable is the name we give a specific object, and the same object can be references by different variables. \n",
    "\n",
    "In practice, we can often use variable and object interchangeably.\n"
   ]
  },
  {
   "cell_type": "code",
   "execution_count": null,
   "id": "84bd6723-aa73-4ca1-8ba7-4f861bc56524",
   "metadata": {},
   "outputs": [],
   "source": []
  }
 ],
 "metadata": {
  "kernelspec": {
   "display_name": "EDS220",
   "language": "python",
   "name": "eds220-env"
  },
  "language_info": {
   "codemirror_mode": {
    "name": "ipython",
    "version": 3
   },
   "file_extension": ".py",
   "mimetype": "text/x-python",
   "name": "python",
   "nbconvert_exporter": "python",
   "pygments_lexer": "ipython3",
   "version": "3.11.4"
  }
 },
 "nbformat": 4,
 "nbformat_minor": 5
}
