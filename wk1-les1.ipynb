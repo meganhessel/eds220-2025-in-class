{
 "cells": [
  {
   "cell_type": "markdown",
   "id": "97e4093d-0b5b-4d5a-8de4-7a80c55d9e1f",
   "metadata": {},
   "source": [
    "## Python review \n",
    "\n",
    "Goals: \n",
    "- recal basic python vocabulary \n",
    "- practice markdown \n",
    "\n",
    "## Libraries and packages\n",
    "\n",
    "**Library** : a collection of code that we can use to perfomr specific tasks in our programs . \n",
    "\n",
    "**NumPy** : \n",
    "- core library for numerical computering in python \n",
    "- many other libraryes use NumPy arrays as building blocks \n",
    "- computations on NumPy are opitimed for speeds and memory usage \n",
    "\n",
    "Lets import NumPy with ** standard abbrvation** "
   ]
  },
  {
   "cell_type": "code",
   "execution_count": 1,
   "id": "3f25bb9f-5715-47aa-8a68-9d8ac8ab1f9a",
   "metadata": {
    "tags": []
   },
   "outputs": [],
   "source": [
    "import numpy as np"
   ]
  },
  {
   "cell_type": "markdown",
   "id": "2c412cd1-2df8-4c23-9e76-f29f605716ce",
   "metadata": {},
   "source": [
    "## Variables \n",
    "\n",
    "**Variables** : A name we assign to a particular object in Pythonn \n",
    "\n",
    "Example: "
   ]
  },
  {
   "cell_type": "code",
   "execution_count": 2,
   "id": "71a14c47-7eb0-432d-b6be-18759c496482",
   "metadata": {
    "tags": []
   },
   "outputs": [],
   "source": [
    "# Assign a small array to cariable a \n",
    "a = np.array([[1,1,2], [3,5,8]])"
   ]
  },
  {
   "cell_type": "code",
   "execution_count": 3,
   "id": "48cd875b-e326-4b8a-ae69-6b8a902d4d28",
   "metadata": {
    "tags": []
   },
   "outputs": [
    {
     "data": {
      "text/plain": [
       "array([[1, 1, 2],\n",
       "       [3, 5, 8]])"
      ]
     },
     "execution_count": 3,
     "metadata": {},
     "output_type": "execute_result"
    }
   ],
   "source": [
    "# Run cell with variable name to show value \n",
    "a"
   ]
  },
  {
   "cell_type": "code",
   "execution_count": 4,
   "id": "faae28d9-b041-46b7-ba5c-5cf360823555",
   "metadata": {
    "tags": []
   },
   "outputs": [
    {
     "name": "stdout",
     "output_type": "stream",
     "text": [
      "[[1 1 2]\n",
      " [3 5 8]]\n"
     ]
    }
   ],
   "source": [
    "# Use 'print' function to print the value \n",
    "print(a)"
   ]
  },
  {
   "cell_type": "markdown",
   "id": "65459981-1fbb-4ee4-bf4f-39676735e91f",
   "metadata": {},
   "source": [
    "## Objects\n",
    "\n",
    "**Object** (informally speaking) is a buncle of *properties* and *actions* about something specific. \n",
    "\n",
    "Examples: \n",
    "\n",
    "Object: data frame \n",
    "\n",
    "Properties: number rows, names of columns, date created\n",
    "\n",
    "Actions: selecting a specific row, adding a new column \n",
    "\n",
    "A variable is the name we give a specific object, and the same object can be references by different variables. \n",
    "\n",
    "In practice, we can often use variable and object interchangeably.\n",
    "\n",
    "## Types\n",
    "\n",
    "EVery object in Python as a **type** and the type tell us what kind of object it is. \n",
    "\n",
    "We can also call the type of an object, the **class** of an object and they both mean what kind of object we have. \n",
    "\n"
   ]
  },
  {
   "cell_type": "code",
   "execution_count": 6,
   "id": "84bd6723-aa73-4ca1-8ba7-4f861bc56524",
   "metadata": {},
   "outputs": [
    {
     "name": "stdout",
     "output_type": "stream",
     "text": [
      "[[1 1 2]\n",
      " [3 5 8]]\n"
     ]
    },
    {
     "data": {
      "text/plain": [
       "numpy.ndarray"
      ]
     },
     "execution_count": 6,
     "metadata": {},
     "output_type": "execute_result"
    }
   ],
   "source": [
    "print(a)\n",
    "\n",
    "# check the type/class of a variable/object by using the 'type' function \n",
    "type(a)"
   ]
  },
  {
   "cell_type": "code",
   "execution_count": 8,
   "id": "e9086e2d-1e1e-4e59-b37a-d51c0b3ddf93",
   "metadata": {
    "tags": []
   },
   "outputs": [
    {
     "name": "stdout",
     "output_type": "stream",
     "text": [
      "1\n"
     ]
    },
    {
     "data": {
      "text/plain": [
       "numpy.int64"
      ]
     },
     "execution_count": 8,
     "metadata": {},
     "output_type": "execute_result"
    }
   ],
   "source": [
    "print(a[0,0])\n",
    "\n",
    "# check the type of an entry on the array by indexig \n",
    "type(a[0,0])"
   ]
  },
  {
   "cell_type": "markdown",
   "id": "09cea27a-8a90-43f6-bac0-c446a3befb29",
   "metadata": {},
   "source": [
    "Notice that 'type(a[0,0])' is 'numpy.int64' and not just the standard python integer type. This is telling us that 1 is an interger stored as a 64-bit number. "
   ]
  },
  {
   "cell_type": "code",
   "execution_count": 9,
   "id": "b00ff594-b011-4a78-b061-3bbefa7cc6c7",
   "metadata": {
    "tags": []
   },
   "outputs": [
    {
     "data": {
      "text/plain": [
       "5"
      ]
     },
     "execution_count": 9,
     "metadata": {},
     "output_type": "execute_result"
    }
   ],
   "source": [
    "a[1,1]"
   ]
  },
  {
   "cell_type": "markdown",
   "id": "087a609e-7ea3-42f2-9fdb-bf586b806b28",
   "metadata": {},
   "source": [
    "## Functions \n",
    "\n",
    "'print' was our first example of a python **function**. \n",
    "\n",
    "Functions take in a set of **arguments** and thise aruguments create a **output** \n",
    "\n",
    "argument = parameter \n",
    "\n",
    "WE can ask infomation about a function by excuting '?function'"
   ]
  },
  {
   "cell_type": "code",
   "execution_count": 10,
   "id": "4267310e-6ec3-4aba-99eb-989a64af2ac6",
   "metadata": {
    "tags": []
   },
   "outputs": [
    {
     "data": {
      "text/plain": [
       "\u001b[0;31mSignature:\u001b[0m \u001b[0mprint\u001b[0m\u001b[0;34m(\u001b[0m\u001b[0;34m*\u001b[0m\u001b[0margs\u001b[0m\u001b[0;34m,\u001b[0m \u001b[0msep\u001b[0m\u001b[0;34m=\u001b[0m\u001b[0;34m' '\u001b[0m\u001b[0;34m,\u001b[0m \u001b[0mend\u001b[0m\u001b[0;34m=\u001b[0m\u001b[0;34m'\\n'\u001b[0m\u001b[0;34m,\u001b[0m \u001b[0mfile\u001b[0m\u001b[0;34m=\u001b[0m\u001b[0;32mNone\u001b[0m\u001b[0;34m,\u001b[0m \u001b[0mflush\u001b[0m\u001b[0;34m=\u001b[0m\u001b[0;32mFalse\u001b[0m\u001b[0;34m)\u001b[0m\u001b[0;34m\u001b[0m\u001b[0;34m\u001b[0m\u001b[0m\n",
       "\u001b[0;31mDocstring:\u001b[0m\n",
       "Prints the values to a stream, or to sys.stdout by default.\n",
       "\n",
       "sep\n",
       "  string inserted between values, default a space.\n",
       "end\n",
       "  string appended after the last value, default a newline.\n",
       "file\n",
       "  a file-like object (stream); defaults to the current sys.stdout.\n",
       "flush\n",
       "  whether to forcibly flush the stream.\n",
       "\u001b[0;31mType:\u001b[0m      builtin_function_or_method"
      ]
     },
     "metadata": {},
     "output_type": "display_data"
    }
   ],
   "source": [
    "# this informtion is a docstring \n",
    "?print"
   ]
  },
  {
   "cell_type": "markdown",
   "id": "a1a83283-03d5-4da7-a9b0-a2e7c95a06d9",
   "metadata": {},
   "source": [
    "**docstring**\n",
    "\n",
    "A function has 2 tyoes of arugments: \n",
    " - **non-optional arguments**: agruments you need to specify for the function to do something \n",
    " - **opitional arguments**: arguments that are pre-filled with a default valye by the function. You can override them. Opitional arguments appear inside the parenthesis in the form `opitional_agument=default_value`"
   ]
  },
  {
   "cell_type": "code",
   "execution_count": 12,
   "id": "563f27c8-7a73-4186-a0d5-2fe2c45e2739",
   "metadata": {
    "tags": []
   },
   "outputs": [
    {
     "name": "stdout",
     "output_type": "stream",
     "text": [
      "changing the default end argument :)"
     ]
    }
   ],
   "source": [
    "print('changing the default end argument', end=' :)')"
   ]
  },
  {
   "cell_type": "markdown",
   "id": "9137b533-185e-4748-8289-5f4814945f73",
   "metadata": {},
   "source": [
    "## Attributes and methods\n",
    "\n",
    "An object in Python ha sattributes and methods \n",
    "\n",
    "- **attributes**: a properity of an object, some piece of information about it \n",
    "    - varaible.attribute\n",
    "- **methods**: functions / procedure assocaited with the object \n",
    "    - variable.method()"
   ]
  },
  {
   "cell_type": "code",
   "execution_count": 21,
   "id": "2f8e9c26-2afe-4ae6-a4a9-24c6b12d2c8c",
   "metadata": {
    "tags": []
   },
   "outputs": [
    {
     "name": "stdout",
     "output_type": "stream",
     "text": [
      "(2, 3)\n",
      "<class 'tuple'>\n"
     ]
    }
   ],
   "source": [
    "# Examples \n",
    "\n",
    "# Attributes \n",
    "print(a.shape)\n",
    "print(type(a.shape))"
   ]
  },
  {
   "cell_type": "code",
   "execution_count": 26,
   "id": "47ddb6c0-0f2f-4471-8fb9-454d5430854b",
   "metadata": {
    "tags": []
   },
   "outputs": [
    {
     "name": "stdout",
     "output_type": "stream",
     "text": [
      "[1 1 2]\n",
      "[1 3]\n"
     ]
    }
   ],
   "source": [
    "# Methods \n",
    "print(a.min(axis=0))   # min returns the minimum valies along a specified axis \n",
    "print(a.min(axis=1))"
   ]
  },
  {
   "cell_type": "code",
   "execution_count": 25,
   "id": "f336e147-808c-4c3c-a2a9-6d146c0d4219",
   "metadata": {
    "tags": []
   },
   "outputs": [
    {
     "data": {
      "text/plain": [
       "1"
      ]
     },
     "execution_count": 25,
     "metadata": {},
     "output_type": "execute_result"
    }
   ],
   "source": [
    "# Check in: call min without parameters \n",
    "a.min()"
   ]
  },
  {
   "cell_type": "markdown",
   "id": "dc3e5d17-0b23-4676-9299-3a0d8feeedad",
   "metadata": {},
   "source": [
    "Remember: methods are functions assocaited with an object"
   ]
  },
  {
   "cell_type": "code",
   "execution_count": 27,
   "id": "fb142487-e223-46f3-8a34-d3d1d4d3434c",
   "metadata": {
    "tags": []
   },
   "outputs": [
    {
     "data": {
      "text/plain": [
       "builtin_function_or_method"
      ]
     },
     "execution_count": 27,
     "metadata": {},
     "output_type": "execute_result"
    }
   ],
   "source": [
    "type(a.min)"
   ]
  },
  {
   "cell_type": "markdown",
   "id": "f03cd587-fc4a-4f2a-9328-d8dee6bce65f",
   "metadata": {},
   "source": [
    "## Exercise\n",
    "1. Read the `print` function help. What is the type of the arugment `sep`? Is this an opitional or non opitional argument? Why \n",
    "\n",
    "2. Create two new variables, one with interger value 77 and another one with the strnig 99. \n",
    "\n",
    "3. Use your variables to print `77%99%77` by changing the value of one of the optional arugments in `print`"
   ]
  },
  {
   "cell_type": "code",
   "execution_count": 28,
   "id": "7e1c2030-f815-4802-941f-ecf1ff634803",
   "metadata": {
    "tags": []
   },
   "outputs": [
    {
     "data": {
      "text/plain": [
       "\u001b[0;31mSignature:\u001b[0m \u001b[0mprint\u001b[0m\u001b[0;34m(\u001b[0m\u001b[0;34m*\u001b[0m\u001b[0margs\u001b[0m\u001b[0;34m,\u001b[0m \u001b[0msep\u001b[0m\u001b[0;34m=\u001b[0m\u001b[0;34m' '\u001b[0m\u001b[0;34m,\u001b[0m \u001b[0mend\u001b[0m\u001b[0;34m=\u001b[0m\u001b[0;34m'\\n'\u001b[0m\u001b[0;34m,\u001b[0m \u001b[0mfile\u001b[0m\u001b[0;34m=\u001b[0m\u001b[0;32mNone\u001b[0m\u001b[0;34m,\u001b[0m \u001b[0mflush\u001b[0m\u001b[0;34m=\u001b[0m\u001b[0;32mFalse\u001b[0m\u001b[0;34m)\u001b[0m\u001b[0;34m\u001b[0m\u001b[0;34m\u001b[0m\u001b[0m\n",
       "\u001b[0;31mDocstring:\u001b[0m\n",
       "Prints the values to a stream, or to sys.stdout by default.\n",
       "\n",
       "sep\n",
       "  string inserted between values, default a space.\n",
       "end\n",
       "  string appended after the last value, default a newline.\n",
       "file\n",
       "  a file-like object (stream); defaults to the current sys.stdout.\n",
       "flush\n",
       "  whether to forcibly flush the stream.\n",
       "\u001b[0;31mType:\u001b[0m      builtin_function_or_method"
      ]
     },
     "metadata": {},
     "output_type": "display_data"
    }
   ],
   "source": [
    "?print"
   ]
  },
  {
   "cell_type": "markdown",
   "id": "868f6ef5-8d99-4de6-be3e-8e177feb6eba",
   "metadata": {},
   "source": [
    "1. sep is a string and opitional argument that is not necessary to run the print function. "
   ]
  },
  {
   "cell_type": "code",
   "execution_count": 32,
   "id": "91bd7752-fb63-4884-99ac-c2b2c4e32835",
   "metadata": {
    "tags": []
   },
   "outputs": [
    {
     "name": "stdout",
     "output_type": "stream",
     "text": [
      "<class 'int'>\n",
      "<class 'str'>\n"
     ]
    }
   ],
   "source": [
    "# 2. \n",
    "a = 77\n",
    "print(type(a))\n",
    "\n",
    "b = '99'\n",
    "print(type(b))"
   ]
  },
  {
   "cell_type": "code",
   "execution_count": 46,
   "id": "5549f2d7-b914-49db-b4d1-752c37457d95",
   "metadata": {
    "tags": []
   },
   "outputs": [
    {
     "name": "stdout",
     "output_type": "stream",
     "text": [
      "77%99%77\n",
      "77%99%77\n"
     ]
    }
   ],
   "source": [
    "# 3. \n",
    "print(a,b,a, sep='%') #print using `sep`\n",
    "\n",
    "print(f\"{a}%{b}%{a}\") #print using a f\"\" print statement "
   ]
  },
  {
   "cell_type": "code",
   "execution_count": null,
   "id": "82540b65-f0db-40fd-95fc-2acd8085cd05",
   "metadata": {},
   "outputs": [],
   "source": []
  }
 ],
 "metadata": {
  "kernelspec": {
   "display_name": "EDS220",
   "language": "python",
   "name": "eds220-env"
  },
  "language_info": {
   "codemirror_mode": {
    "name": "ipython",
    "version": 3
   },
   "file_extension": ".py",
   "mimetype": "text/x-python",
   "name": "python",
   "nbconvert_exporter": "python",
   "pygments_lexer": "ipython3",
   "version": "3.11.4"
  }
 },
 "nbformat": 4,
 "nbformat_minor": 5
}
